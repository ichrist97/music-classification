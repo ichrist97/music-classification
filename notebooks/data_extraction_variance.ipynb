{
 "cells": [
  {
   "cell_type": "code",
   "execution_count": 1,
   "metadata": {},
   "outputs": [],
   "source": [
    "import librosa\n",
    "import librosa.display\n",
    "from pathlib import Path\n",
    "import numpy as np\n",
    "import pandas as pd"
   ]
  },
  {
   "cell_type": "code",
   "execution_count": 2,
   "metadata": {},
   "outputs": [],
   "source": [
    "# read out directories\n",
    "data_path = Path(\"./data\", \"genres\")\n",
    "items = data_path.iterdir()\n",
    "items = list(filter(lambda x: x.is_dir(), items)) # only directories of genres\n",
    "#items = list(filter(lambda x: \"pop\" in str(x), items)) # only directories of genres"
   ]
  },
  {
   "cell_type": "code",
   "execution_count": 3,
   "metadata": {},
   "outputs": [],
   "source": [
    "cols = [\n",
    "    \"name\",\n",
    "    \"chroma_stft_mean\",\n",
    "    \"chroma_stft_var\",\n",
    "    \"rms_mean\",\n",
    "    \"rms_var\",\n",
    "    \"bpm\",\n",
    "    \"spectral_centroid_mean\",\n",
    "    \"spectral_centroid_var\",\n",
    "    \"spectral_bandwidth_mean\",\n",
    "    \"spectral_bandwidth_var\",\n",
    "    \"rolloff_mean\",\n",
    "    \"rolloff_var\",\n",
    "    \"zero_crossing_rate_mean\",\n",
    "    \"zero_crossing_rate_var\",\n",
    "    \"harmony_mean\",\n",
    "    \"harmony_var\",\n",
    "    \"perceptr_mean\",\n",
    "    \"perceptr_var\",\n",
    "    \"mfcc1_mean\",\n",
    "    \"mfcc1_var\",\n",
    "    \"mfcc2_mean\",\n",
    "    \"mfcc2_var\",\n",
    "    \"mfcc3_mean\",\n",
    "    \"mfcc3_var\",\n",
    "    \"mfcc4_mean\",\n",
    "    \"mfcc4_var\",\n",
    "    \"mfcc5_mean\",\n",
    "    \"mfcc5_var\",\n",
    "    \"mfcc6_mean\",\n",
    "    \"mfcc6_var\",\n",
    "    \"mfcc7_mean\",\n",
    "    \"mfcc7_var\",\n",
    "    \"mfcc8_mean\",\n",
    "    \"mfcc8_var\",\n",
    "    \"mfcc9_mean\",\n",
    "    \"mfcc9_var\",\n",
    "    \"mfcc10_mean\",\n",
    "    \"mfcc10_var\",\n",
    "    \"mfcc11_mean\",\n",
    "    \"mfcc11_var\",\n",
    "    \"mfcc12_mean\",\n",
    "    \"mfcc12_var\",\n",
    "    \"mfcc13_mean\",\n",
    "    \"mfcc13_var\",\n",
    "    \"mfcc14_mean\",\n",
    "    \"mfcc14_var\",\n",
    "    \"mfcc15_mean\",\n",
    "    \"mfcc15_var\",\n",
    "    \"mfcc16_mean\",\n",
    "    \"mfcc16_var\",\n",
    "    \"mfcc17_mean\",\n",
    "    \"mfcc17_var\",\n",
    "    \"mfcc18_mean\",\n",
    "    \"mfcc18_var\",\n",
    "    \"mfcc19_mean\",\n",
    "    \"mfcc19_var\",\n",
    "    \"mfcc20_mean\",\n",
    "    \"mfcc20_var\",\n",
    "    \"label\"\n",
    "]"
   ]
  },
  {
   "cell_type": "markdown",
   "metadata": {},
   "source": [
    "Feature extraction functions"
   ]
  },
  {
   "cell_type": "code",
   "execution_count": 4,
   "metadata": {},
   "outputs": [],
   "source": [
    "def zero_crossing_rate(audio_file):\n",
    "    zcr = librosa.feature.zero_crossing_rate(y=audio_file)\n",
    "    return np.mean(zcr), np.var(zcr)\n"
   ]
  },
  {
   "cell_type": "code",
   "execution_count": 5,
   "metadata": {},
   "outputs": [],
   "source": [
    "def rms(audio_file):\n",
    "    rms_vals = librosa.feature.rms(y=audio_file)\n",
    "    return np.mean(rms_vals), np.var(rms_vals)\n"
   ]
  },
  {
   "cell_type": "code",
   "execution_count": 6,
   "metadata": {},
   "outputs": [],
   "source": [
    "def harmonics(audio_file):\n",
    "    y_harm, y_perc = librosa.effects.hpss(y=audio_file)\n",
    "    return np.mean(y_harm), np.var(y_harm), np.mean(y_perc), np.var(y_perc)\n"
   ]
  },
  {
   "cell_type": "code",
   "execution_count": 7,
   "metadata": {},
   "outputs": [],
   "source": [
    "def get_bpm(y, sr):\n",
    "    tempo, _ = librosa.beat.beat_track(y=y, sr=sr)\n",
    "    return tempo\n"
   ]
  },
  {
   "cell_type": "code",
   "execution_count": 8,
   "metadata": {},
   "outputs": [],
   "source": [
    "def spectral_centroid(audio_file, sr):\n",
    "    centroids = librosa.feature.spectral_centroid(y=audio_file, sr=sr)\n",
    "    return np.mean(centroids), np.var(centroids)\n"
   ]
  },
  {
   "cell_type": "code",
   "execution_count": 9,
   "metadata": {},
   "outputs": [],
   "source": [
    "def spectral_bandwidth(audio_file, sr):\n",
    "    bandwidth = librosa.feature.spectral_bandwidth(y=audio_file, sr=sr)\n",
    "    return np.mean(bandwidth), np.var(bandwidth)\n"
   ]
  },
  {
   "cell_type": "code",
   "execution_count": 10,
   "metadata": {},
   "outputs": [],
   "source": [
    "def spectral_rolloff(audio_file, sr):\n",
    "    rolloff = librosa.feature.spectral_rolloff(y=audio_file, sr=sr)\n",
    "    return np.mean(rolloff), np.var(rolloff)\n"
   ]
  },
  {
   "cell_type": "code",
   "execution_count": 11,
   "metadata": {},
   "outputs": [],
   "source": [
    "def mfccs_list(audio_file, sr):\n",
    "    mfccs_raw = librosa.feature.mfcc(y=audio_file, sr=sr)\n",
    "    mfccs_mean = np.mean(mfccs_raw, axis=1)\n",
    "    mfccs_var = np.var(mfccs_raw, axis=1)\n",
    "    return mfccs_mean.tolist(), mfccs_var.tolist()\n"
   ]
  },
  {
   "cell_type": "code",
   "execution_count": 12,
   "metadata": {},
   "outputs": [],
   "source": [
    "def chroma(audio_file, sr, hop_length=5000):\n",
    "    # Increase or decrease hop_length to change how granular you want your data to be\n",
    "\n",
    "    # Chromogram\n",
    "    chromagram = librosa.feature.chroma_stft(y=audio_file, sr=sr, hop_length=hop_length)\n",
    "    return np.mean(chromagram), np.var(chromagram)\n"
   ]
  },
  {
   "cell_type": "code",
   "execution_count": 13,
   "metadata": {},
   "outputs": [],
   "source": [
    "def extract_features(genres):\n",
    "    df = pd.DataFrame(columns=cols)\n",
    "\n",
    "    for genre in genres:\n",
    "        name = str(genre).split(\"/\")[-1]\n",
    "        for audio_file in genre.iterdir():\n",
    "            file_name = str(audio_file).split(\"/\")[-1]\n",
    "\n",
    "            # pressure strengths (y) and sample rate (sr)\n",
    "            y, sr = librosa.load(audio_file)\n",
    "            # Trim leading and trailing silence from an audio signal (silence before and after the actual audio)\n",
    "            audio_file, _ = librosa.effects.trim(y)\n",
    "\n",
    "            # features\n",
    "            zcr_mean, zcr_var = zero_crossing_rate(audio_file)\n",
    "            harm_mean, harm_var, perc_mean, perc_var = harmonics(audio_file)\n",
    "            bpm = get_bpm(audio_file, sr)\n",
    "            spec_centr_mean, spec_centr_var = spectral_centroid(audio_file, sr)\n",
    "            spec_band_mean, spec_band_var = spectral_bandwidth(audio_file, sr)\n",
    "            spec_roll_mean, spec_roll_var = spectral_rolloff(audio_file, sr)\n",
    "            mfccs_mean, mfccs_var = mfccs_list(audio_file, sr)\n",
    "            chroma_freq_mean, chroma_freq_var = chroma(audio_file, sr)\n",
    "            rms_mean, rms_var = rms(audio_file)\n",
    "\n",
    "            # append to df in column order\n",
    "            row = [\n",
    "                file_name,\n",
    "                chroma_freq_mean,\n",
    "                chroma_freq_var,\n",
    "                rms_mean,\n",
    "                rms_var,\n",
    "                bpm,\n",
    "                spec_centr_mean,\n",
    "                spec_centr_var,\n",
    "                spec_band_mean,\n",
    "                spec_band_var,\n",
    "                spec_roll_mean,\n",
    "                spec_roll_var,\n",
    "                zcr_mean,\n",
    "                zcr_var,\n",
    "                harm_mean,\n",
    "                harm_var,\n",
    "                perc_mean,\n",
    "                perc_var,\n",
    "                *mfccs_mean,\n",
    "                *mfccs_var,\n",
    "                name,\n",
    "            ]\n",
    "            df.loc[len(df)] = row\n",
    "\n",
    "    return df\n"
   ]
  },
  {
   "cell_type": "code",
   "execution_count": 14,
   "metadata": {},
   "outputs": [],
   "source": [
    "df = extract_features(items)"
   ]
  },
  {
   "cell_type": "code",
   "execution_count": 371,
   "metadata": {},
   "outputs": [],
   "source": [
    "df.to_csv(\"data/features_var.csv\")"
   ]
  }
 ],
 "metadata": {
  "interpreter": {
   "hash": "744438a286f552de89f21840df11d95eed1d912f7f5940de34928fec5bf381d0"
  },
  "kernelspec": {
   "display_name": "Python 3.9.7 ('base')",
   "language": "python",
   "name": "python3"
  },
  "language_info": {
   "codemirror_mode": {
    "name": "ipython",
    "version": 3
   },
   "file_extension": ".py",
   "mimetype": "text/x-python",
   "name": "python",
   "nbconvert_exporter": "python",
   "pygments_lexer": "ipython3",
   "version": "3.9.7"
  },
  "orig_nbformat": 4
 },
 "nbformat": 4,
 "nbformat_minor": 2
}
