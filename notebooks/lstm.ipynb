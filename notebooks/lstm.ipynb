{
 "cells": [
  {
   "cell_type": "code",
   "execution_count": 1,
   "metadata": {},
   "outputs": [],
   "source": [
    "import pandas as pd\n",
    "import numpy as np\n",
    "import torch\n",
    "from torch import nn\n",
    "from torch.autograd import Variable\n",
    "from torch.utils.tensorboard import SummaryWriter\n",
    "\n",
    "from encoding import encode\n",
    "\n",
    "from sklearn.model_selection import train_test_split\n",
    "from sklearn.preprocessing import StandardScaler"
   ]
  },
  {
   "cell_type": "code",
   "execution_count": 2,
   "metadata": {},
   "outputs": [],
   "source": [
    "# tensorboard\n",
    "writer = SummaryWriter()"
   ]
  },
  {
   "cell_type": "code",
   "execution_count": 3,
   "metadata": {},
   "outputs": [],
   "source": [
    "df = pd.read_csv(\"data/features.csv\")"
   ]
  },
  {
   "cell_type": "code",
   "execution_count": 4,
   "metadata": {},
   "outputs": [],
   "source": [
    "X = df.iloc[:, 2:-1]  # skip index and name\n",
    "\n",
    "y = df[\"label\"]  # 10 genres\n",
    "y, code = encode(y)\n",
    "y = np.array(y)\n",
    "\n",
    "#### NORMALIZE X ####\n",
    "\n",
    "cols = X.columns\n",
    "std_scaler = StandardScaler()\n",
    "np_scaled = std_scaler.fit_transform(X)\n",
    "\n",
    "# new data frame with the new scaled data.\n",
    "X = pd.DataFrame(np_scaled, columns=cols)\n",
    "\n",
    "X_train, X_test, y_train, y_test = train_test_split(X, y, test_size=0.2, random_state=42)\n",
    "X_train, X_val, y_train, y_val = train_test_split(X_train, y_train, test_size=0.1, random_state=42)\n"
   ]
  },
  {
   "cell_type": "code",
   "execution_count": 5,
   "metadata": {},
   "outputs": [],
   "source": [
    "# convert to tensors\n",
    "X_train_t = Variable(torch.FloatTensor(X_train.to_numpy()))\n",
    "X_val_t = Variable(torch.FloatTensor(X_val.to_numpy()))\n",
    "X_test_t = Variable(torch.FloatTensor(X_test.to_numpy()))\n",
    "\n",
    "y_train_t = Variable(torch.LongTensor(y_train))\n",
    "y_val_t = Variable(torch.LongTensor(y_val))\n",
    "y_test_t = Variable(torch.LongTensor(y_test))\n"
   ]
  },
  {
   "cell_type": "code",
   "execution_count": 6,
   "metadata": {},
   "outputs": [],
   "source": [
    "# reshaping to rows, timestamps, features\n",
    "def transform(X):\n",
    "    return torch.reshape(X, (X.shape[0], 1, X.shape[1]))\n",
    "\n",
    "\n",
    "X_train_t_final = transform(X_train_t)\n",
    "X_val_t_final = transform(X_val_t)\n",
    "X_test_t_final = transform(X_test_t)\n"
   ]
  },
  {
   "cell_type": "code",
   "execution_count": 7,
   "metadata": {},
   "outputs": [],
   "source": [
    "class LSTMNet(nn.Module):\n",
    "    def __init__(self, num_classes, input_size, hidden_size, num_layers, seq_length, dropout=0.2):\n",
    "        super(LSTMNet, self).__init__()\n",
    "        self.num_classes = num_classes  # number of classes\n",
    "        self.num_layers = num_layers  # number of layers\n",
    "        self.input_size = input_size  # input size\n",
    "        self.hidden_size = hidden_size  # hidden state\n",
    "        self.seq_length = seq_length  # sequence length\n",
    "\n",
    "        self.lstm = nn.LSTM(\n",
    "            input_size=input_size,\n",
    "            hidden_size=hidden_size,\n",
    "            num_layers=num_layers,\n",
    "            batch_first=True,\n",
    "        )  # lstm\n",
    "        self.fc_1 = nn.Linear(hidden_size, 128)  # fully connected 1\n",
    "        self.fc = nn.Linear(128, num_classes)  # fully connected last layer\n",
    "        self.dropout = nn.Dropout(dropout)\n",
    "        self.relu = nn.ReLU()\n",
    "\n",
    "    def forward(self, x):\n",
    "        h_0 = Variable(\n",
    "            torch.zeros(self.num_layers, x.size(0), self.hidden_size)\n",
    "        )  # hidden state\n",
    "        c_0 = Variable(\n",
    "            torch.zeros(self.num_layers, x.size(0), self.hidden_size)\n",
    "        )  # internal state\n",
    "        x = self.dropout(x)\n",
    "        # Propagate input through LSTM\n",
    "        output, (hn, cn) = self.lstm(\n",
    "            x, (h_0, c_0)\n",
    "        )  # lstm with input, hidden, and internal state\n",
    "        hn = hn.view(-1, self.hidden_size)  # reshaping the data for Dense layer next\n",
    "        out = self.relu(hn)\n",
    "        out = self.fc_1(out)  # first Dense\n",
    "        out = self.relu(out)  # relu\n",
    "        out = self.fc(out)  # Final Output\n",
    "        return out\n",
    "\n",
    "    def fit(self, X_train, y_train, X_val, y_val, learning_rate=0.01, verbose=False):\n",
    "        criterion = nn.CrossEntropyLoss()\n",
    "        optimizer = torch.optim.Adam(self.parameters(), lr=learning_rate)\n",
    "\n",
    "        self.train()\n",
    "        for epoch in range(num_epochs):\n",
    "            self.train()\n",
    "            # train data\n",
    "            outputs = self.forward(X_train)  # forward pass\n",
    "            optimizer.zero_grad()  # caluclate the gradient, manually setting to 0\n",
    "\n",
    "            # obtain the loss function\n",
    "            loss = criterion(outputs, y_train)\n",
    "            writer.add_scalar(\"loss/train\", loss, epoch)\n",
    "            loss.backward()  # calculates the loss of the loss function\n",
    "\n",
    "            optimizer.step()  # improve from loss, i.e backprop\n",
    "            if epoch % 100 == 0 and verbose:\n",
    "                print(\"Epoch: %d, loss: %1.5f\" % (epoch, loss.item()))\n",
    "\n",
    "            # validation data\n",
    "            out_val = self.forward(X_val)  # forward pass\n",
    "\n",
    "            # obtain the loss function\n",
    "            loss_val = criterion(out_val, y_val)\n",
    "            writer.add_scalar(\"loss/val\", loss_val, epoch)\n",
    "\n",
    "        \n",
    "        writer.flush()\n",
    "        writer.close()\n",
    "\n",
    "    def predict(self, X_test):\n",
    "        self.eval()\n",
    "        preds_t = self(X_test)\n",
    "        y_pred = torch.argmax(preds_t, axis=1)\n",
    "        return y_pred.detach().numpy()\n",
    "\n",
    "    def score(self, X_test, y_test):\n",
    "        self.eval()\n",
    "        preds_t = self(X_test)\n",
    "        y_pred = torch.argmax(preds_t, axis=1)\n",
    "        y_test_t = torch.Tensor(y_test)\n",
    "        acc = torch.sum(y_pred == y_test_t) / y_pred.shape[0]\n",
    "        return float(acc)\n"
   ]
  },
  {
   "cell_type": "code",
   "execution_count": 8,
   "metadata": {},
   "outputs": [],
   "source": [
    "# hyperparamaters\n",
    "num_epochs = 2000\n",
    "learning_rate = 0.01\n",
    "dropout = 0.3\n",
    "\n",
    "input_size = 29  # number of features\n",
    "hidden_size = 12  # number of features in hidden state\n",
    "num_layers = 1  # number of stacked lstm layers\n",
    "\n",
    "num_classes = 10  # number of output classes\n"
   ]
  },
  {
   "cell_type": "code",
   "execution_count": 9,
   "metadata": {},
   "outputs": [
    {
     "name": "stdout",
     "output_type": "stream",
     "text": [
      "Epoch: 0, loss: 2.30416\n",
      "Epoch: 100, loss: 0.99365\n",
      "Epoch: 200, loss: 0.90231\n"
     ]
    },
    {
     "ename": "KeyboardInterrupt",
     "evalue": "",
     "output_type": "error",
     "traceback": [
      "\u001b[0;31m---------------------------------------------------------------------------\u001b[0m",
      "\u001b[0;31mKeyboardInterrupt\u001b[0m                         Traceback (most recent call last)",
      "\u001b[0;32m/tmp/ipykernel_1190/3203860622.py\u001b[0m in \u001b[0;36m<module>\u001b[0;34m\u001b[0m\n\u001b[1;32m      2\u001b[0m     \u001b[0mnum_classes\u001b[0m\u001b[0;34m,\u001b[0m \u001b[0minput_size\u001b[0m\u001b[0;34m,\u001b[0m \u001b[0mhidden_size\u001b[0m\u001b[0;34m,\u001b[0m \u001b[0mnum_layers\u001b[0m\u001b[0;34m,\u001b[0m \u001b[0mX_train_t_final\u001b[0m\u001b[0;34m.\u001b[0m\u001b[0mshape\u001b[0m\u001b[0;34m[\u001b[0m\u001b[0;36m1\u001b[0m\u001b[0;34m]\u001b[0m\u001b[0;34m,\u001b[0m \u001b[0mdropout\u001b[0m\u001b[0;34m=\u001b[0m\u001b[0mdropout\u001b[0m\u001b[0;34m\u001b[0m\u001b[0;34m\u001b[0m\u001b[0m\n\u001b[1;32m      3\u001b[0m )\n\u001b[0;32m----> 4\u001b[0;31m \u001b[0mmodel\u001b[0m\u001b[0;34m.\u001b[0m\u001b[0mfit\u001b[0m\u001b[0;34m(\u001b[0m\u001b[0mX_train_t_final\u001b[0m\u001b[0;34m,\u001b[0m \u001b[0my_train_t\u001b[0m\u001b[0;34m,\u001b[0m \u001b[0mX_val_t_final\u001b[0m\u001b[0;34m,\u001b[0m \u001b[0my_val_t\u001b[0m\u001b[0;34m,\u001b[0m \u001b[0mlearning_rate\u001b[0m\u001b[0;34m=\u001b[0m\u001b[0mlearning_rate\u001b[0m\u001b[0;34m,\u001b[0m \u001b[0mverbose\u001b[0m\u001b[0;34m=\u001b[0m\u001b[0;32mTrue\u001b[0m\u001b[0;34m)\u001b[0m\u001b[0;34m\u001b[0m\u001b[0;34m\u001b[0m\u001b[0m\n\u001b[0m",
      "\u001b[0;32m/tmp/ipykernel_1190/638315994.py\u001b[0m in \u001b[0;36mfit\u001b[0;34m(self, X_train, y_train, X_val, y_val, learning_rate, verbose)\u001b[0m\n\u001b[1;32m     52\u001b[0m             \u001b[0mloss\u001b[0m \u001b[0;34m=\u001b[0m \u001b[0mcriterion\u001b[0m\u001b[0;34m(\u001b[0m\u001b[0moutputs\u001b[0m\u001b[0;34m,\u001b[0m \u001b[0my_train\u001b[0m\u001b[0;34m)\u001b[0m\u001b[0;34m\u001b[0m\u001b[0;34m\u001b[0m\u001b[0m\n\u001b[1;32m     53\u001b[0m             \u001b[0mwriter\u001b[0m\u001b[0;34m.\u001b[0m\u001b[0madd_scalar\u001b[0m\u001b[0;34m(\u001b[0m\u001b[0;34m\"loss/train\"\u001b[0m\u001b[0;34m,\u001b[0m \u001b[0mloss\u001b[0m\u001b[0;34m,\u001b[0m \u001b[0mepoch\u001b[0m\u001b[0;34m)\u001b[0m\u001b[0;34m\u001b[0m\u001b[0;34m\u001b[0m\u001b[0m\n\u001b[0;32m---> 54\u001b[0;31m             \u001b[0mloss\u001b[0m\u001b[0;34m.\u001b[0m\u001b[0mbackward\u001b[0m\u001b[0;34m(\u001b[0m\u001b[0;34m)\u001b[0m  \u001b[0;31m# calculates the loss of the loss function\u001b[0m\u001b[0;34m\u001b[0m\u001b[0;34m\u001b[0m\u001b[0m\n\u001b[0m\u001b[1;32m     55\u001b[0m \u001b[0;34m\u001b[0m\u001b[0m\n\u001b[1;32m     56\u001b[0m             \u001b[0moptimizer\u001b[0m\u001b[0;34m.\u001b[0m\u001b[0mstep\u001b[0m\u001b[0;34m(\u001b[0m\u001b[0;34m)\u001b[0m  \u001b[0;31m# improve from loss, i.e backprop\u001b[0m\u001b[0;34m\u001b[0m\u001b[0;34m\u001b[0m\u001b[0m\n",
      "\u001b[0;32m~/anaconda3/lib/python3.9/site-packages/torch/_tensor.py\u001b[0m in \u001b[0;36mbackward\u001b[0;34m(self, gradient, retain_graph, create_graph, inputs)\u001b[0m\n\u001b[1;32m    305\u001b[0m                 \u001b[0mcreate_graph\u001b[0m\u001b[0;34m=\u001b[0m\u001b[0mcreate_graph\u001b[0m\u001b[0;34m,\u001b[0m\u001b[0;34m\u001b[0m\u001b[0;34m\u001b[0m\u001b[0m\n\u001b[1;32m    306\u001b[0m                 inputs=inputs)\n\u001b[0;32m--> 307\u001b[0;31m         \u001b[0mtorch\u001b[0m\u001b[0;34m.\u001b[0m\u001b[0mautograd\u001b[0m\u001b[0;34m.\u001b[0m\u001b[0mbackward\u001b[0m\u001b[0;34m(\u001b[0m\u001b[0mself\u001b[0m\u001b[0;34m,\u001b[0m \u001b[0mgradient\u001b[0m\u001b[0;34m,\u001b[0m \u001b[0mretain_graph\u001b[0m\u001b[0;34m,\u001b[0m \u001b[0mcreate_graph\u001b[0m\u001b[0;34m,\u001b[0m \u001b[0minputs\u001b[0m\u001b[0;34m=\u001b[0m\u001b[0minputs\u001b[0m\u001b[0;34m)\u001b[0m\u001b[0;34m\u001b[0m\u001b[0;34m\u001b[0m\u001b[0m\n\u001b[0m\u001b[1;32m    308\u001b[0m \u001b[0;34m\u001b[0m\u001b[0m\n\u001b[1;32m    309\u001b[0m     \u001b[0;32mdef\u001b[0m \u001b[0mregister_hook\u001b[0m\u001b[0;34m(\u001b[0m\u001b[0mself\u001b[0m\u001b[0;34m,\u001b[0m \u001b[0mhook\u001b[0m\u001b[0;34m)\u001b[0m\u001b[0;34m:\u001b[0m\u001b[0;34m\u001b[0m\u001b[0;34m\u001b[0m\u001b[0m\n",
      "\u001b[0;32m~/anaconda3/lib/python3.9/site-packages/torch/autograd/__init__.py\u001b[0m in \u001b[0;36mbackward\u001b[0;34m(tensors, grad_tensors, retain_graph, create_graph, grad_variables, inputs)\u001b[0m\n\u001b[1;32m    152\u001b[0m         \u001b[0mretain_graph\u001b[0m \u001b[0;34m=\u001b[0m \u001b[0mcreate_graph\u001b[0m\u001b[0;34m\u001b[0m\u001b[0;34m\u001b[0m\u001b[0m\n\u001b[1;32m    153\u001b[0m \u001b[0;34m\u001b[0m\u001b[0m\n\u001b[0;32m--> 154\u001b[0;31m     Variable._execution_engine.run_backward(\n\u001b[0m\u001b[1;32m    155\u001b[0m         \u001b[0mtensors\u001b[0m\u001b[0;34m,\u001b[0m \u001b[0mgrad_tensors_\u001b[0m\u001b[0;34m,\u001b[0m \u001b[0mretain_graph\u001b[0m\u001b[0;34m,\u001b[0m \u001b[0mcreate_graph\u001b[0m\u001b[0;34m,\u001b[0m \u001b[0minputs\u001b[0m\u001b[0;34m,\u001b[0m\u001b[0;34m\u001b[0m\u001b[0;34m\u001b[0m\u001b[0m\n\u001b[1;32m    156\u001b[0m         allow_unreachable=True, accumulate_grad=True)  # allow_unreachable flag\n",
      "\u001b[0;31mKeyboardInterrupt\u001b[0m: "
     ]
    }
   ],
   "source": [
    "model = LSTMNet(\n",
    "    num_classes, input_size, hidden_size, num_layers, X_train_t_final.shape[1], dropout=dropout\n",
    ")\n",
    "model.fit(X_train_t_final, y_train_t, X_val_t_final, y_val_t, learning_rate=learning_rate, verbose=True)\n"
   ]
  },
  {
   "cell_type": "code",
   "execution_count": 121,
   "metadata": {},
   "outputs": [
    {
     "data": {
      "text/plain": [
       "array([6, 9, 0, 1, 5, 1, 8, 3, 5, 8, 5, 0, 0, 9, 6, 1, 9, 1, 3, 6, 6, 0,\n",
       "       1, 8, 9, 7, 8, 6, 8, 0, 0, 8, 8, 6, 4, 5, 3, 7, 6, 6, 5, 8, 4, 6,\n",
       "       1, 8, 8, 9, 5, 7, 5, 1, 1, 0, 8, 2, 5, 9, 0, 1, 5, 1, 6, 3, 0, 3,\n",
       "       4, 3, 1, 1, 7, 3, 0, 6, 5, 4, 0, 6, 8, 9, 7, 8, 3, 6, 7, 8, 7, 7,\n",
       "       4, 2, 3, 6, 5, 5, 0, 4, 3, 7, 0, 6, 0, 2, 5, 9, 1, 6, 4, 9, 6, 6,\n",
       "       7, 3, 3, 3, 5, 4, 2, 4, 0, 5, 5, 9, 9, 3, 1, 4, 4, 0, 0, 8, 0, 0,\n",
       "       4, 4, 5, 0, 7, 3, 6, 3, 5, 9, 3, 4, 8, 5, 4, 8, 4, 1, 5, 3, 7, 7,\n",
       "       2, 9, 4, 8, 1, 0, 9, 1, 1, 0, 0, 5, 9, 9, 4, 8, 5, 8, 1, 7, 8, 3,\n",
       "       2, 7, 1, 0, 3, 1, 2, 9, 1, 2, 0, 7, 4, 5, 2, 3, 3, 8, 3, 6, 4, 5,\n",
       "       4, 8, 8, 1, 1, 3, 9, 8, 5, 1, 5, 3, 9, 1, 5, 4, 9, 8, 9, 4, 1, 1,\n",
       "       6, 0, 3, 7, 1, 9, 9, 8, 8, 0, 4, 6, 3, 0, 8, 7, 8, 0, 2, 3, 9, 2,\n",
       "       2, 7, 0, 3, 6, 9, 2, 2, 9, 9, 1, 2, 2, 3, 6, 4, 3, 6, 2, 8, 8, 4,\n",
       "       2, 4, 4, 8, 3, 6, 5, 5, 5, 0, 2, 7, 2, 3, 6, 2, 0, 8, 0, 6, 9, 6,\n",
       "       7, 5, 2, 1, 2, 3, 1, 9, 5, 4, 2, 7, 4, 9])"
      ]
     },
     "execution_count": 121,
     "metadata": {},
     "output_type": "execute_result"
    }
   ],
   "source": [
    "y_pred = model.predict(X_test_t_final)\n",
    "y_pred"
   ]
  },
  {
   "cell_type": "code",
   "execution_count": 189,
   "metadata": {},
   "outputs": [
    {
     "data": {
      "text/plain": [
       "0.7200000286102295"
      ]
     },
     "execution_count": 189,
     "metadata": {},
     "output_type": "execute_result"
    }
   ],
   "source": [
    "model.score(X_test_t_final, y_test)"
   ]
  }
 ],
 "metadata": {
  "interpreter": {
   "hash": "744438a286f552de89f21840df11d95eed1d912f7f5940de34928fec5bf381d0"
  },
  "kernelspec": {
   "display_name": "Python 3.9.7 ('base')",
   "language": "python",
   "name": "python3"
  },
  "language_info": {
   "codemirror_mode": {
    "name": "ipython",
    "version": 3
   },
   "file_extension": ".py",
   "mimetype": "text/x-python",
   "name": "python",
   "nbconvert_exporter": "python",
   "pygments_lexer": "ipython3",
   "version": "3.9.7"
  },
  "orig_nbformat": 4
 },
 "nbformat": 4,
 "nbformat_minor": 2
}
